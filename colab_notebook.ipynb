{
  "nbformat": 4,
  "nbformat_minor": 0,
  "metadata": {
    "colab": {
      "provenance": [],
      "authorship_tag": "ABX9TyPsFDgQC+NhrwJVlrjiJCnv",
      "include_colab_link": true
    },
    "kernelspec": {
      "name": "python3",
      "display_name": "Python 3"
    },
    "language_info": {
      "name": "python"
    }
  },
  "cells": [
    {
      "cell_type": "markdown",
      "metadata": {
        "id": "view-in-github",
        "colab_type": "text"
      },
      "source": [
        "<a href=\"https://colab.research.google.com/github/TheDanGriff/NBA-Shooting-Analysis/blob/main/colab_notebook.ipynb\" target=\"_parent\"><img src=\"https://colab.research.google.com/assets/colab-badge.svg\" alt=\"Open In Colab\"/></a>"
      ]
    },
    {
      "cell_type": "code",
      "execution_count": null,
      "metadata": {
        "id": "KvEc54qtUtHO"
      },
      "outputs": [],
      "source": [
        "# Clone your GitHub repository\n",
        "!git clone https://github.com/TheDanGriff/NBA-Shooting-Analysis.git\n",
        "\n",
        "# Change to the project directory\n",
        "%cd NBA-Shooting-Analysis/\n",
        "\n",
        "# Install dependencies from requirements.txt\n",
        "!pip install -r requirements.txt\n"
      ]
    }
  ]
}